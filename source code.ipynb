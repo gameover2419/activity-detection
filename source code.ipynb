{
 "cells": [
  {
   "cell_type": "code",
   "execution_count": 8,
   "id": "85ff7c73",
   "metadata": {},
   "outputs": [],
   "source": [
    "import cv2\n",
    "import imutils\n",
    "\n",
    "# Initializing the HOG person\n",
    "# detector\n",
    "hog = cv2.HOGDescriptor()\n",
    "hog.setSVMDetector(cv2.HOGDescriptor_getDefaultPeopleDetector())\n",
    "\n",
    "cap = cv2.VideoCapture(r'C:\\Users\\Rohit Yadav\\Downloads\\road cross1.mp4')\n",
    "\n",
    "\n",
    "while cap.isOpened():\n",
    "# Reading the video stream\n",
    "    ret, image = cap.read()\n",
    "    if ret:\n",
    "        image = imutils.resize(image,width=min(400, image.shape[1]))\n",
    "\n",
    "        # Detecting all the regions\n",
    "        # in the Image that has a\n",
    "        # pedestrians inside it\n",
    "        (regions, _) = hog.detectMultiScale(image,winStride=(4, 4),padding=(4, 4),scale=1.05)\n",
    "\n",
    "        # Drawing the regions in the\n",
    "        # Image\n",
    "        for (x, y, w, h) in regions:\n",
    "            cv2.rectangle(image, (x, y),(x + w, y + h),(0, 0, 255), 2)\n",
    "\n",
    "        # Showing the output Image\n",
    "        cv2.imshow(\"Image\", image)\n",
    "        if cv2.waitKey(25) & 0xFF == ord('q'):\n",
    "            break\n",
    "    else:\n",
    "        break\n",
    "\n",
    "cap.release()\n",
    "cv2.destroyAllWindows()"
   ]
  },
  {
   "cell_type": "code",
   "execution_count": null,
   "id": "f51de375",
   "metadata": {},
   "outputs": [],
   "source": []
  }
 ],
 "metadata": {
  "kernelspec": {
   "display_name": "Python 3 (ipykernel)",
   "language": "python",
   "name": "python3"
  },
  "language_info": {
   "codemirror_mode": {
    "name": "ipython",
    "version": 3
   },
   "file_extension": ".py",
   "mimetype": "text/x-python",
   "name": "python",
   "nbconvert_exporter": "python",
   "pygments_lexer": "ipython3",
   "version": "3.11.5"
  }
 },
 "nbformat": 4,
 "nbformat_minor": 5
}
